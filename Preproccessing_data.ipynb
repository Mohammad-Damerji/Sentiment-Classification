{
  "cells": [
    {
      "cell_type": "markdown",
      "source": [
        "## Import Libraries"
      ],
      "metadata": {
        "id": "3XAAtk9esfAD"
      }
    },
    {
      "cell_type": "code",
      "execution_count": 1,
      "metadata": {
        "id": "AjSpZUIfr1yi"
      },
      "outputs": [],
      "source": [
        "from sklearn.preprocessing import OneHotEncoder,LabelEncoder\n",
        "import matplotlib.pyplot as plt\n",
        "import pickle\n",
        "import numpy as np"
      ]
    },
    {
      "cell_type": "markdown",
      "source": [
        "## Import Data"
      ],
      "metadata": {
        "id": "2OLJPl38srVt"
      }
    },
    {
      "cell_type": "code",
      "source": [
        "from google.colab import drive\n",
        "drive.mount('/content/drive')"
      ],
      "metadata": {
        "colab": {
          "base_uri": "https://localhost:8080/"
        },
        "id": "wGohUkSbEXXx",
        "outputId": "95eade37-d94b-4361-c106-074e1f6ce199"
      },
      "execution_count": 2,
      "outputs": [
        {
          "output_type": "stream",
          "name": "stdout",
          "text": [
            "Drive already mounted at /content/drive; to attempt to forcibly remount, call drive.mount(\"/content/drive\", force_remount=True).\n"
          ]
        }
      ]
    },
    {
      "cell_type": "markdown",
      "source": [
        "## Genaral Functions"
      ],
      "metadata": {
        "id": "Mp74yH4z9xD_"
      }
    },
    {
      "cell_type": "code",
      "execution_count": 3,
      "metadata": {
        "id": "6AEPOcjoEEJr"
      },
      "outputs": [],
      "source": [
        "classes = np.unique(['negative','positive'])\n",
        "\n",
        "label_encoder = LabelEncoder()\n",
        "integer_encoded = label_encoder.fit_transform(classes)\n",
        "integer_encoded = integer_encoded.reshape(len(integer_encoded), 1)\n",
        "\n",
        "onehot_encoder = OneHotEncoder(sparse=False)\n",
        "onehot_encoder.fit(integer_encoded)\n",
        "\n",
        "with open('/content/drive/MyDrive/final_files/label_encoder.pkl','wb') as file:\n",
        "      pickle.dump(label_encoder,file)"
      ]
    },
    {
      "cell_type": "code",
      "source": [
        "def plot_data(y_lst, title, x_name, y_name):\n",
        "  x = ['Negative','Positive']\n",
        "  y = [sum(map(lambda x : x == 'negative', y_lst)) , sum(map(lambda x : x == 'positive', y_lst))]\n",
        "  plt.bar(x, y) \n",
        "  for i in range(len(x)):\n",
        "      plt.text(i,y[i],y[i])  \n",
        "  plt.title(title)\n",
        "  plt.xlabel(x_name)\n",
        "  plt.ylabel(y_name)\n",
        "  plt.show()"
      ],
      "metadata": {
        "id": "Rp1qqNuQ91F-"
      },
      "execution_count": 4,
      "outputs": []
    },
    {
      "cell_type": "code",
      "source": [
        "#  Negative ,  Positive\n",
        "def cmumosei_round(a):\n",
        "    if a < 0:\n",
        "      res = 'negative'\n",
        "    else:\n",
        "      res = 'positive'\n",
        "    return res"
      ],
      "metadata": {
        "id": "ze79PWvEBQCQ"
      },
      "execution_count": 5,
      "outputs": []
    },
    {
      "cell_type": "markdown",
      "source": [
        "## Explore vision data"
      ],
      "metadata": {
        "id": "uqT8BoC1suh3"
      }
    },
    {
      "cell_type": "code",
      "source": [
        "with open('/content/drive/MyDrive/files/train_vision.pkl', 'rb') as f:\n",
        "  train_vision = pickle.load(f)\n",
        "\n",
        "with open('/content/drive/MyDrive/files/valid_vision.pkl', 'rb') as f:\n",
        "  valid_vision = pickle.load(f)\n",
        "\n",
        "with open('/content/drive/MyDrive/files/test_vision.pkl', 'rb') as f:\n",
        "  test_vision = pickle.load(f)"
      ],
      "metadata": {
        "id": "oYej0svjEV-i"
      },
      "execution_count": 24,
      "outputs": []
    },
    {
      "cell_type": "markdown",
      "source": [
        "Train"
      ],
      "metadata": {
        "id": "L8LpI4nWOlDs"
      }
    },
    {
      "cell_type": "code",
      "execution_count": 25,
      "metadata": {
        "colab": {
          "base_uri": "https://localhost:8080/"
        },
        "id": "qx9SO7tHEEJQ",
        "outputId": "713124d9-105d-49c9-eae0-b1618b4d7d6d"
      },
      "outputs": [
        {
          "output_type": "execute_result",
          "data": {
            "text/plain": [
              "dict_keys(['train_data_vision', 'train_data_labels'])"
            ]
          },
          "metadata": {},
          "execution_count": 25
        }
      ],
      "source": [
        "train_vision.keys()"
      ]
    },
    {
      "cell_type": "code",
      "execution_count": 26,
      "metadata": {
        "id": "dEaTsJh1r1yp"
      },
      "outputs": [],
      "source": [
        "X_train = train_vision[\"train_data_vision\"]\n",
        "y_train = train_vision[\"train_data_labels\"]"
      ]
    },
    {
      "cell_type": "code",
      "source": [
        "lst_X_train = []\n",
        "for matrix in X_train:\n",
        "    lst_X_train.append(matrix[-1])"
      ],
      "metadata": {
        "id": "rkN7M_Pfeyav"
      },
      "execution_count": 27,
      "outputs": []
    },
    {
      "cell_type": "code",
      "execution_count": 28,
      "metadata": {
        "id": "XWVmUjNlEEJZ"
      },
      "outputs": [],
      "source": [
        "X_train_vision = np.array(lst_X_train)\n",
        "y_train = np.squeeze(y_train)"
      ]
    },
    {
      "cell_type": "code",
      "execution_count": 29,
      "metadata": {
        "colab": {
          "base_uri": "https://localhost:8080/"
        },
        "id": "i9t-yL04EEJb",
        "outputId": "8f0b5411-e8a2-4440-f209-1039ff52bfda"
      },
      "outputs": [
        {
          "output_type": "execute_result",
          "data": {
            "text/plain": [
              "((16326, 35), (16326,))"
            ]
          },
          "metadata": {},
          "execution_count": 29
        }
      ],
      "source": [
        "X_train_vision.shape , y_train.shape"
      ]
    },
    {
      "cell_type": "markdown",
      "source": [
        "Valid"
      ],
      "metadata": {
        "id": "DNJVcEJpOnUo"
      }
    },
    {
      "cell_type": "code",
      "execution_count": 30,
      "metadata": {
        "colab": {
          "base_uri": "https://localhost:8080/"
        },
        "id": "J8iQBHf9EEJe",
        "outputId": "f83224bd-b593-49d1-c434-472873f69863"
      },
      "outputs": [
        {
          "output_type": "execute_result",
          "data": {
            "text/plain": [
              "dict_keys(['valid_data_vision', 'valid_data_labels'])"
            ]
          },
          "metadata": {},
          "execution_count": 30
        }
      ],
      "source": [
        "valid_vision.keys()"
      ]
    },
    {
      "cell_type": "code",
      "execution_count": 31,
      "metadata": {
        "id": "oGvQYHH-r1yt"
      },
      "outputs": [],
      "source": [
        "X_valid = valid_vision[\"valid_data_vision\"]\n",
        "y_valid = valid_vision[\"valid_data_labels\"]"
      ]
    },
    {
      "cell_type": "code",
      "source": [
        "lst_X_valid = []\n",
        "for matrix in X_valid:\n",
        "    lst_X_valid.append(matrix[-1])"
      ],
      "metadata": {
        "id": "Fn5AiAfJfTsa"
      },
      "execution_count": 32,
      "outputs": []
    },
    {
      "cell_type": "code",
      "source": [
        "X_valid_vision = np.array(lst_X_valid)\n",
        "y_valid = np.squeeze(y_valid)"
      ],
      "metadata": {
        "id": "EIZfkqUs1W3_"
      },
      "execution_count": 33,
      "outputs": []
    },
    {
      "cell_type": "code",
      "execution_count": 34,
      "metadata": {
        "colab": {
          "base_uri": "https://localhost:8080/"
        },
        "id": "iieXBiUuEEJi",
        "outputId": "e0077004-bc31-4285-c213-c846ac431da3"
      },
      "outputs": [
        {
          "output_type": "execute_result",
          "data": {
            "text/plain": [
              "((1871, 35), (1871,))"
            ]
          },
          "metadata": {},
          "execution_count": 34
        }
      ],
      "source": [
        "X_valid_vision.shape , y_valid.shape"
      ]
    },
    {
      "cell_type": "markdown",
      "source": [
        "Test"
      ],
      "metadata": {
        "id": "k7lqQ1BFOqN_"
      }
    },
    {
      "cell_type": "code",
      "execution_count": 35,
      "metadata": {
        "colab": {
          "base_uri": "https://localhost:8080/"
        },
        "id": "iSqqwooNEEJl",
        "outputId": "161ba8c6-40f6-48fe-c17c-6413619e2f50"
      },
      "outputs": [
        {
          "output_type": "execute_result",
          "data": {
            "text/plain": [
              "dict_keys(['test_data_vision', 'test_data_labels'])"
            ]
          },
          "metadata": {},
          "execution_count": 35
        }
      ],
      "source": [
        "test_vision.keys()"
      ]
    },
    {
      "cell_type": "code",
      "execution_count": 36,
      "metadata": {
        "id": "p6JNNTS-r1yv"
      },
      "outputs": [],
      "source": [
        "X_test = test_vision[\"test_data_vision\"]\n",
        "y_test = test_vision[\"test_data_labels\"]"
      ]
    },
    {
      "cell_type": "code",
      "source": [
        "lst_X_test = []\n",
        "for matrix in X_test:\n",
        "    lst_X_test.append(matrix[-1])"
      ],
      "metadata": {
        "id": "0nhJrcscflMQ"
      },
      "execution_count": 37,
      "outputs": []
    },
    {
      "cell_type": "code",
      "execution_count": 38,
      "metadata": {
        "id": "W5iJJt6zEEJn"
      },
      "outputs": [],
      "source": [
        "X_test_vision = np.array(lst_X_test)\n",
        "y_test = np.squeeze(y_test)"
      ]
    },
    {
      "cell_type": "code",
      "execution_count": 39,
      "metadata": {
        "colab": {
          "base_uri": "https://localhost:8080/"
        },
        "id": "oSCpy22NEEJo",
        "outputId": "8e4c1dd1-e90a-46c5-f1b3-032cca86991f"
      },
      "outputs": [
        {
          "output_type": "execute_result",
          "data": {
            "text/plain": [
              "((4659, 35), (4659,))"
            ]
          },
          "metadata": {},
          "execution_count": 39
        }
      ],
      "source": [
        "X_test_vision.shape , y_test.shape"
      ]
    },
    {
      "cell_type": "markdown",
      "source": [
        "Encoding labels"
      ],
      "metadata": {
        "id": "cLWLYCkZOtfG"
      }
    },
    {
      "cell_type": "code",
      "execution_count": 40,
      "metadata": {
        "id": "sZCGVZYDEEJq"
      },
      "outputs": [],
      "source": [
        "y_train_lst = []\n",
        "y_valid_lst = []\n",
        "y_test_lst = []\n",
        "\n",
        "for i in range(len(y_train)):\n",
        "    y_train_lst.append(cmumosei_round(y_train[i]))\n",
        "for i in range(len(y_valid)):\n",
        "    y_valid_lst.append(cmumosei_round(y_valid[i]))\n",
        "for i in range(len(y_test)):\n",
        "    y_test_lst.append(cmumosei_round(y_test[i]))"
      ]
    },
    {
      "cell_type": "code",
      "execution_count": 41,
      "metadata": {
        "id": "f14hdQXzEEJr"
      },
      "outputs": [],
      "source": [
        "data_label_encoded_train = label_encoder.transform(y_train_lst)\n",
        "data_label_encoded_train = data_label_encoded_train.reshape(len(data_label_encoded_train), 1)\n",
        "y_train_vision = onehot_encoder.transform(data_label_encoded_train)"
      ]
    },
    {
      "cell_type": "code",
      "execution_count": 42,
      "metadata": {
        "id": "Hh9qOx5aEEJs"
      },
      "outputs": [],
      "source": [
        "data_label_encoded_valid = label_encoder.transform(y_valid_lst)\n",
        "data_label_encoded_valid = data_label_encoded_valid.reshape(len(data_label_encoded_valid), 1)\n",
        "y_valid_vision = onehot_encoder.transform(data_label_encoded_valid)"
      ]
    },
    {
      "cell_type": "code",
      "execution_count": 43,
      "metadata": {
        "id": "yIMTof7bEEJs"
      },
      "outputs": [],
      "source": [
        "data_label_encoded_test = label_encoder.transform(y_test_lst)\n",
        "data_label_encoded_test = data_label_encoded_test.reshape(len(data_label_encoded_test), 1)\n",
        "y_test_vision = onehot_encoder.transform(data_label_encoded_test)"
      ]
    },
    {
      "cell_type": "markdown",
      "source": [
        "Plotting"
      ],
      "metadata": {
        "id": "VIOBlxRAOyOk"
      }
    },
    {
      "cell_type": "code",
      "source": [
        "plot_data(y_train_lst, \"Vision Train Data\", \"Classes\", \"Number of Videos\")"
      ],
      "metadata": {
        "colab": {
          "base_uri": "https://localhost:8080/",
          "height": 295
        },
        "id": "hlD5zRDI6XAx",
        "outputId": "8b254580-d43b-4507-ea0e-0e73d7e4a587"
      },
      "execution_count": 44,
      "outputs": [
        {
          "output_type": "display_data",
          "data": {
            "text/plain": [
              "<Figure size 432x288 with 1 Axes>"
            ],
            "image/png": "[encoded data removed]"
          },
          "metadata": {
            "needs_background": "light"
          }
        }
      ]
    },
    {
      "cell_type": "code",
      "source": [
        "plot_data(y_valid_lst, \"Vision Valid Data\", \"Classes\", \"Number of Videos\")"
      ],
      "metadata": {
        "colab": {
          "base_uri": "https://localhost:8080/",
          "height": 295
        },
        "id": "WKAB7VBr7Y4s",
        "outputId": "0a2c724b-72cf-4aa2-ba1b-1da93979d2f2"
      },
      "execution_count": 45,
      "outputs": [
        {
          "output_type": "display_data",
          "data": {
            "text/plain": [
              "<Figure size 432x288 with 1 Axes>"
            ],
            "image/png": "[encoded data removed]"
          },
          "metadata": {
            "needs_background": "light"
          }
        }
      ]
    },
    {
      "cell_type": "code",
      "source": [
        "plot_data(y_test_lst, \"Vision Test Data\", \"Classes\", \"Number of Videos\")"
      ],
      "metadata": {
        "colab": {
          "base_uri": "https://localhost:8080/",
          "height": 295
        },
        "id": "l-QsyVAo7ehf",
        "outputId": "1a8869e7-f657-4114-cc2c-68eb1a51ab39"
      },
      "execution_count": 46,
      "outputs": [
        {
          "output_type": "display_data",
          "data": {
            "text/plain": [
              "<Figure size 432x288 with 1 Axes>"
            ],
            "image/png": "[encoded data removed]"
          },
          "metadata": {
            "needs_background": "light"
          }
        }
      ]
    },
    {
      "cell_type": "markdown",
      "source": [
        "Save"
      ],
      "metadata": {
        "id": "mvGdDzy6PCsp"
      }
    },
    {
      "cell_type": "code",
      "source": [
        "with open('/content/drive/MyDrive/final_files/X_train_vision.pkl','wb') as file:\n",
        "      pickle.dump(X_train_vision,file)\n",
        "with open('/content/drive/MyDrive/final_files/y_train_vision.pkl','wb') as file:\n",
        "      pickle.dump(y_train_vision,file)\n",
        "\n",
        "with open('/content/drive/MyDrive/final_files/X_valid_vision.pkl','wb') as file:\n",
        "      pickle.dump(X_valid_vision,file)\n",
        "with open('/content/drive/MyDrive/final_files/y_valid_vision.pkl','wb') as file:\n",
        "      pickle.dump(y_valid_vision,file)\n",
        "\n",
        "with open('/content/drive/MyDrive/final_files/X_test_vision.pkl','wb') as file:\n",
        "      pickle.dump(X_test_vision,file)\n",
        "with open('/content/drive/MyDrive/final_files/y_test_vision.pkl','wb') as file:\n",
        "      pickle.dump(y_test_vision,file)"
      ],
      "metadata": {
        "id": "ZkmIMTxUEAxI"
      },
      "execution_count": 47,
      "outputs": []
    },
    {
      "cell_type": "markdown",
      "source": [
        "## Explore audio data"
      ],
      "metadata": {
        "id": "EycgG9hGtm_W"
      }
    },
    {
      "cell_type": "code",
      "source": [
        "with open('/content/drive/MyDrive/files/train_audio.pkl', 'rb') as f:\n",
        "  train_audio = pickle.load(f)\n",
        "\n",
        "with open('/content/drive/MyDrive/files/valid_audio.pkl', 'rb') as f:\n",
        "  valid_audio = pickle.load(f)\n",
        "\n",
        "with open('/content/drive/MyDrive/files/test_audio.pkl', 'rb') as f:\n",
        "  test_audio = pickle.load(f)"
      ],
      "metadata": {
        "id": "lpod3tT3t2yn"
      },
      "execution_count": 6,
      "outputs": []
    },
    {
      "cell_type": "markdown",
      "source": [
        "Train"
      ],
      "metadata": {
        "id": "baRDjWlDPU4K"
      }
    },
    {
      "cell_type": "code",
      "source": [
        "train_audio.keys()"
      ],
      "metadata": {
        "colab": {
          "base_uri": "https://localhost:8080/"
        },
        "id": "O4mIe0t38Bdg",
        "outputId": "62fcb9bc-7a78-494b-9ff1-8d487ffb5157"
      },
      "execution_count": 7,
      "outputs": [
        {
          "output_type": "execute_result",
          "data": {
            "text/plain": [
              "dict_keys(['train_data_audio', 'train_data_labels'])"
            ]
          },
          "metadata": {},
          "execution_count": 7
        }
      ]
    },
    {
      "cell_type": "code",
      "source": [
        "X_train = train_audio[\"train_data_audio\"]\n",
        "y_train = train_audio[\"train_data_labels\"]"
      ],
      "metadata": {
        "id": "55mO_3dM-jyt"
      },
      "execution_count": 8,
      "outputs": []
    },
    {
      "cell_type": "code",
      "source": [
        "lst_X_train = []\n",
        "for matrix in X_train:\n",
        "    lst_X_train.append(matrix[-1])"
      ],
      "metadata": {
        "id": "sxKG95Kg_O8k"
      },
      "execution_count": 9,
      "outputs": []
    },
    {
      "cell_type": "code",
      "source": [
        "X_train_audio = np.array(lst_X_train)\n",
        "y_train = np.squeeze(y_train)"
      ],
      "metadata": {
        "id": "ttJ7u_3M_USV"
      },
      "execution_count": 10,
      "outputs": []
    },
    {
      "cell_type": "code",
      "source": [
        "X_train_audio.shape , y_train.shape"
      ],
      "metadata": {
        "colab": {
          "base_uri": "https://localhost:8080/"
        },
        "id": "TRu1bMBn-x-l",
        "outputId": "9bb6b9db-66b9-47af-dfcd-2b5ccb0c1a88"
      },
      "execution_count": 11,
      "outputs": [
        {
          "output_type": "execute_result",
          "data": {
            "text/plain": [
              "((16326, 74), (16326,))"
            ]
          },
          "metadata": {},
          "execution_count": 11
        }
      ]
    },
    {
      "cell_type": "markdown",
      "source": [
        "valid"
      ],
      "metadata": {
        "id": "q8D0P2JfPcFY"
      }
    },
    {
      "cell_type": "code",
      "source": [
        "valid_audio.keys()"
      ],
      "metadata": {
        "colab": {
          "base_uri": "https://localhost:8080/"
        },
        "id": "2MxeekA__0AS",
        "outputId": "284f7074-97d3-4b90-99dd-4e3e0e26c5f1"
      },
      "execution_count": 12,
      "outputs": [
        {
          "output_type": "execute_result",
          "data": {
            "text/plain": [
              "dict_keys(['valid_data_audio', 'valid_data_labels'])"
            ]
          },
          "metadata": {},
          "execution_count": 12
        }
      ]
    },
    {
      "cell_type": "code",
      "source": [
        "X_valid = valid_audio[\"valid_data_audio\"]\n",
        "y_valid = valid_audio[\"valid_data_labels\"]"
      ],
      "metadata": {
        "id": "88IFROuIAId7"
      },
      "execution_count": 13,
      "outputs": []
    },
    {
      "cell_type": "code",
      "source": [
        "lst_X_valid = []\n",
        "for matrix in X_valid:\n",
        "    lst_X_valid.append(matrix[-1])"
      ],
      "metadata": {
        "id": "RDHLX3PzAKSZ"
      },
      "execution_count": 14,
      "outputs": []
    },
    {
      "cell_type": "code",
      "source": [
        "X_valid_audio = np.array(lst_X_valid)\n",
        "y_valid = np.squeeze(y_valid)"
      ],
      "metadata": {
        "id": "1ql6tOCeALrC"
      },
      "execution_count": 15,
      "outputs": []
    },
    {
      "cell_type": "code",
      "source": [
        "X_valid_audio.shape , y_valid.shape"
      ],
      "metadata": {
        "colab": {
          "base_uri": "https://localhost:8080/"
        },
        "id": "Wf1xb4QRAM39",
        "outputId": "2db5eadd-2a44-4735-c68d-c90c9f0583b6"
      },
      "execution_count": 16,
      "outputs": [
        {
          "output_type": "execute_result",
          "data": {
            "text/plain": [
              "((1871, 74), (1871,))"
            ]
          },
          "metadata": {},
          "execution_count": 16
        }
      ]
    },
    {
      "cell_type": "markdown",
      "source": [
        "Test"
      ],
      "metadata": {
        "id": "YR6MAHbAPhTW"
      }
    },
    {
      "cell_type": "code",
      "source": [
        "test_audio.keys()"
      ],
      "metadata": {
        "colab": {
          "base_uri": "https://localhost:8080/"
        },
        "id": "O-mVDiKBAiCZ",
        "outputId": "9d5a08b2-8ebb-4605-ecad-683c05c18767"
      },
      "execution_count": 17,
      "outputs": [
        {
          "output_type": "execute_result",
          "data": {
            "text/plain": [
              "dict_keys(['test_data_audio', 'test_data_labels'])"
            ]
          },
          "metadata": {},
          "execution_count": 17
        }
      ]
    },
    {
      "cell_type": "code",
      "source": [
        "X_test = test_audio[\"test_data_audio\"]\n",
        "y_test = test_audio[\"test_data_labels\"]"
      ],
      "metadata": {
        "id": "MuiAn-7qAlcU"
      },
      "execution_count": 18,
      "outputs": []
    },
    {
      "cell_type": "code",
      "source": [
        "lst_X_test = []\n",
        "for matrix in X_test:\n",
        "    lst_X_test.append(matrix[-1])"
      ],
      "metadata": {
        "id": "44gDQOxGAnqU"
      },
      "execution_count": 19,
      "outputs": []
    },
    {
      "cell_type": "code",
      "source": [
        "X_test_audio = np.array(lst_X_test)\n",
        "y_test = np.squeeze(y_test)"
      ],
      "metadata": {
        "id": "-Bu27qBSAodW"
      },
      "execution_count": 20,
      "outputs": []
    },
    {
      "cell_type": "code",
      "source": [
        "X_test_audio.shape , y_test.shape"
      ],
      "metadata": {
        "colab": {
          "base_uri": "https://localhost:8080/"
        },
        "id": "Gj2oL6P3Aq9L",
        "outputId": "bce68cea-c39d-489b-dd7a-d13a7a28559d"
      },
      "execution_count": 21,
      "outputs": [
        {
          "output_type": "execute_result",
          "data": {
            "text/plain": [
              "((4659, 74), (4659,))"
            ]
          },
          "metadata": {},
          "execution_count": 21
        }
      ]
    },
    {
      "cell_type": "markdown",
      "source": [
        "Encoding labels"
      ],
      "metadata": {
        "id": "6b2k6S0mPj-4"
      }
    },
    {
      "cell_type": "code",
      "source": [
        "y_train_lst = []\n",
        "y_valid_lst = []\n",
        "y_test_lst = []\n",
        "\n",
        "for i in range(len(y_train)):\n",
        "    y_train_lst.append(cmumosei_round(y_train[i]))\n",
        "for i in range(len(y_valid)):\n",
        "    y_valid_lst.append(cmumosei_round(y_valid[i]))\n",
        "for i in range(len(y_test)):\n",
        "    y_test_lst.append(cmumosei_round(y_test[i]))"
      ],
      "metadata": {
        "id": "yD0fBQnhBTrw"
      },
      "execution_count": 22,
      "outputs": []
    },
    {
      "cell_type": "code",
      "source": [
        "data_label_encoded_train = label_encoder.transform(y_train_lst)\n",
        "data_label_encoded_train = data_label_encoded_train.reshape(len(data_label_encoded_train), 1)\n",
        "y_train_aduio = onehot_encoder.transform(data_label_encoded_train)"
      ],
      "metadata": {
        "id": "nCI__OklArQ1"
      },
      "execution_count": 23,
      "outputs": []
    },
    {
      "cell_type": "code",
      "source": [
        "data_label_encoded_valid = label_encoder.transform(y_valid_lst)\n",
        "data_label_encoded_valid = data_label_encoded_valid.reshape(len(data_label_encoded_valid), 1)\n",
        "y_valid_aduio = onehot_encoder.transform(data_label_encoded_valid)"
      ],
      "metadata": {
        "id": "h0wXzADJBFVW"
      },
      "execution_count": 24,
      "outputs": []
    },
    {
      "cell_type": "code",
      "source": [
        "data_label_encoded_test = label_encoder.transform(y_test_lst)\n",
        "data_label_encoded_test = data_label_encoded_test.reshape(len(data_label_encoded_test), 1)\n",
        "y_test_aduio = onehot_encoder.transform(data_label_encoded_test)"
      ],
      "metadata": {
        "id": "fB4Epfq_BGVP"
      },
      "execution_count": 25,
      "outputs": []
    },
    {
      "cell_type": "markdown",
      "source": [
        "Plotting"
      ],
      "metadata": {
        "id": "CXisHB7EPpX5"
      }
    },
    {
      "cell_type": "code",
      "source": [
        "plot_data(y_train_lst, \"Aduio Train Data\", \"Classes\", \"Number of Videos\")"
      ],
      "metadata": {
        "colab": {
          "base_uri": "https://localhost:8080/",
          "height": 295
        },
        "id": "28sDlca9Ao8A",
        "outputId": "afa222fc-c694-4da6-ac37-cd6bcb9febfa"
      },
      "execution_count": 26,
      "outputs": [
        {
          "output_type": "display_data",
          "data": {
            "text/plain": [
              "<Figure size 432x288 with 1 Axes>"
            ],
            "image/png": "[encoded data removed]"
          },
          "metadata": {
            "needs_background": "light"
          }
        }
      ]
    },
    {
      "cell_type": "code",
      "source": [
        "plot_data(y_valid_lst, \"Aduio Valid Data\", \"Classes\", \"Number of Videos\")"
      ],
      "metadata": {
        "colab": {
          "base_uri": "https://localhost:8080/",
          "height": 295
        },
        "id": "cEgIWcyFBkyx",
        "outputId": "3aabdf0c-5714-4b21-d696-c0af7a00d51a"
      },
      "execution_count": 27,
      "outputs": [
        {
          "output_type": "display_data",
          "data": {
            "text/plain": [
              "<Figure size 432x288 with 1 Axes>"
            ],
            "image/png": "[encoded data removed]"
          },
          "metadata": {
            "needs_background": "light"
          }
        }
      ]
    },
    {
      "cell_type": "code",
      "source": [
        "plot_data(y_test_lst, \"Aduio Test Data\", \"Classes\", \"Number of Videos\")"
      ],
      "metadata": {
        "colab": {
          "base_uri": "https://localhost:8080/",
          "height": 295
        },
        "id": "69NyGspJBlrw",
        "outputId": "4052d787-0da0-4a51-9173-01ca8c3369cc"
      },
      "execution_count": 28,
      "outputs": [
        {
          "output_type": "display_data",
          "data": {
            "text/plain": [
              "<Figure size 432x288 with 1 Axes>"
            ],
            "image/png": "[encoded data removed]"
          },
          "metadata": {
            "needs_background": "light"
          }
        }
      ]
    },
    {
      "cell_type": "markdown",
      "source": [
        "Save"
      ],
      "metadata": {
        "id": "YSpt5ONSPxL1"
      }
    },
    {
      "cell_type": "code",
      "source": [
        "with open('/content/drive/MyDrive/final_files/X_train_audio.pkl','wb') as file:\n",
        "      pickle.dump(X_train_audio,file)\n",
        "with open('/content/drive/MyDrive/final_files/y_train_aduio.pkl','wb') as file:\n",
        "      pickle.dump(y_train_aduio,file)\n",
        "\n",
        "with open('/content/drive/MyDrive/final_files/X_valid_audio.pkl','wb') as file:\n",
        "      pickle.dump(X_valid_audio,file)\n",
        "with open('/content/drive/MyDrive/final_files/y_valid_aduio.pkl','wb') as file:\n",
        "      pickle.dump(y_valid_aduio,file)\n",
        "\n",
        "with open('/content/drive/MyDrive/final_files/X_test_audio.pkl','wb') as file:\n",
        "      pickle.dump(X_test_audio,file)\n",
        "with open('/content/drive/MyDrive/final_files/y_test_aduio.pkl','wb') as file:\n",
        "      pickle.dump(y_test_aduio,file)"
      ],
      "metadata": {
        "id": "lX6xIO9qB61k"
      },
      "execution_count": 29,
      "outputs": []
    },
    {
      "cell_type": "markdown",
      "source": [
        "## Explore text data"
      ],
      "metadata": {
        "id": "rV0Oq1fGtvfw"
      }
    },
    {
      "cell_type": "code",
      "source": [
        "with open('/content/drive/MyDrive/files/train_text.pkl', 'rb') as f:\n",
        "  train_text = pickle.load(f)\n",
        "\n",
        "with open('/content/drive/MyDrive/files/valid_text.pkl', 'rb') as f:\n",
        "  valid_text = pickle.load(f)\n",
        "\n",
        "with open('/content/drive/MyDrive/files/test_text.pkl', 'rb') as f:\n",
        "  test_text = pickle.load(f)"
      ],
      "metadata": {
        "id": "C20uUfPYt3UX"
      },
      "execution_count": 30,
      "outputs": []
    },
    {
      "cell_type": "markdown",
      "source": [
        "Train"
      ],
      "metadata": {
        "id": "8rCkJfl4L664"
      }
    },
    {
      "cell_type": "code",
      "source": [
        "train_text.keys()"
      ],
      "metadata": {
        "colab": {
          "base_uri": "https://localhost:8080/"
        },
        "id": "4lQ35NLJJRJQ",
        "outputId": "354904d5-0471-48f7-8105-636d3fddc33b"
      },
      "execution_count": 31,
      "outputs": [
        {
          "output_type": "execute_result",
          "data": {
            "text/plain": [
              "dict_keys(['train_data_text', 'train_data_labels'])"
            ]
          },
          "metadata": {},
          "execution_count": 31
        }
      ]
    },
    {
      "cell_type": "code",
      "source": [
        "X_train_text = train_text[\"train_data_text\"]\n",
        "y_train = train_text[\"train_data_labels\"]"
      ],
      "metadata": {
        "id": "kow5Df5GJSA6"
      },
      "execution_count": 32,
      "outputs": []
    },
    {
      "cell_type": "code",
      "source": [
        "y_train = np.squeeze(y_train)"
      ],
      "metadata": {
        "id": "R63-6objJ2HL"
      },
      "execution_count": 33,
      "outputs": []
    },
    {
      "cell_type": "code",
      "source": [
        "X_train_text.shape , y_train.shape"
      ],
      "metadata": {
        "colab": {
          "base_uri": "https://localhost:8080/"
        },
        "id": "A-2UK8MLJ29K",
        "outputId": "df13232a-e6f2-4374-ea85-de5cd4699747"
      },
      "execution_count": 34,
      "outputs": [
        {
          "output_type": "execute_result",
          "data": {
            "text/plain": [
              "((16326, 50, 300), (16326,))"
            ]
          },
          "metadata": {},
          "execution_count": 34
        }
      ]
    },
    {
      "cell_type": "markdown",
      "source": [
        "Valid"
      ],
      "metadata": {
        "id": "iBqKxIWIMBsa"
      }
    },
    {
      "cell_type": "code",
      "source": [
        "valid_text.keys()"
      ],
      "metadata": {
        "colab": {
          "base_uri": "https://localhost:8080/"
        },
        "id": "_zkDMDAxKg89",
        "outputId": "420409b9-4c45-44f2-b05b-9f921bad81b4"
      },
      "execution_count": 35,
      "outputs": [
        {
          "output_type": "execute_result",
          "data": {
            "text/plain": [
              "dict_keys(['valid_data_text', 'valid_data_labels'])"
            ]
          },
          "metadata": {},
          "execution_count": 35
        }
      ]
    },
    {
      "cell_type": "code",
      "source": [
        "X_valid_text = valid_text[\"valid_data_text\"]\n",
        "y_valid = valid_text[\"valid_data_labels\"]"
      ],
      "metadata": {
        "id": "hUjkV57qKniy"
      },
      "execution_count": 36,
      "outputs": []
    },
    {
      "cell_type": "code",
      "source": [
        "y_valid = np.squeeze(y_valid)"
      ],
      "metadata": {
        "id": "vWfqpSckKoyN"
      },
      "execution_count": 37,
      "outputs": []
    },
    {
      "cell_type": "code",
      "source": [
        "X_valid_text.shape , y_valid.shape"
      ],
      "metadata": {
        "colab": {
          "base_uri": "https://localhost:8080/"
        },
        "id": "agzZ_Jk0KqOs",
        "outputId": "beee5195-ea7f-4b63-de21-7f0006796e8e"
      },
      "execution_count": 38,
      "outputs": [
        {
          "output_type": "execute_result",
          "data": {
            "text/plain": [
              "((1871, 50, 300), (1871,))"
            ]
          },
          "metadata": {},
          "execution_count": 38
        }
      ]
    },
    {
      "cell_type": "markdown",
      "source": [
        "Test"
      ],
      "metadata": {
        "id": "gDferJIWMGeY"
      }
    },
    {
      "cell_type": "code",
      "source": [
        "test_text.keys()"
      ],
      "metadata": {
        "colab": {
          "base_uri": "https://localhost:8080/"
        },
        "id": "jNtvmlAELP1n",
        "outputId": "661a4a34-b6e5-476f-b52c-dd7f31969cd1"
      },
      "execution_count": 39,
      "outputs": [
        {
          "output_type": "execute_result",
          "data": {
            "text/plain": [
              "dict_keys(['test_data_text', 'test_data_labels'])"
            ]
          },
          "metadata": {},
          "execution_count": 39
        }
      ]
    },
    {
      "cell_type": "code",
      "source": [
        "X_test_text = test_text[\"test_data_text\"]\n",
        "y_test = test_text[\"test_data_labels\"]"
      ],
      "metadata": {
        "id": "3oQX8ITDLUTK"
      },
      "execution_count": 40,
      "outputs": []
    },
    {
      "cell_type": "code",
      "source": [
        "y_test = np.squeeze(y_test)"
      ],
      "metadata": {
        "id": "1h6BzpICMJ6z"
      },
      "execution_count": 41,
      "outputs": []
    },
    {
      "cell_type": "code",
      "source": [
        "X_test_text.shape , y_test.shape"
      ],
      "metadata": {
        "colab": {
          "base_uri": "https://localhost:8080/"
        },
        "id": "637b7lG3MLC-",
        "outputId": "4899d110-f10a-428a-f199-e4e7817e2051"
      },
      "execution_count": 42,
      "outputs": [
        {
          "output_type": "execute_result",
          "data": {
            "text/plain": [
              "((4659, 50, 300), (4659,))"
            ]
          },
          "metadata": {},
          "execution_count": 42
        }
      ]
    },
    {
      "cell_type": "markdown",
      "source": [
        "Encoding labels"
      ],
      "metadata": {
        "id": "Q44gDCVBMx5R"
      }
    },
    {
      "cell_type": "code",
      "source": [
        "y_train_lst = []\n",
        "y_valid_lst = []\n",
        "y_test_lst = []\n",
        "\n",
        "for i in range(len(y_train)):\n",
        "    y_train_lst.append(cmumosei_round(y_train[i]))\n",
        "for i in range(len(y_valid)):\n",
        "    y_valid_lst.append(cmumosei_round(y_valid[i]))\n",
        "for i in range(len(y_test)):\n",
        "    y_test_lst.append(cmumosei_round(y_test[i]))"
      ],
      "metadata": {
        "id": "hcsAy3rUMvSb"
      },
      "execution_count": 43,
      "outputs": []
    },
    {
      "cell_type": "code",
      "source": [
        "data_label_encoded_train = label_encoder.transform(y_train_lst)\n",
        "data_label_encoded_train = data_label_encoded_train.reshape(len(data_label_encoded_train), 1)\n",
        "y_train_text = onehot_encoder.transform(data_label_encoded_train)"
      ],
      "metadata": {
        "id": "9honHaRjM9Oi"
      },
      "execution_count": 44,
      "outputs": []
    },
    {
      "cell_type": "code",
      "source": [
        "data_label_encoded_train = label_encoder.transform(y_valid_lst)\n",
        "data_label_encoded_train = data_label_encoded_train.reshape(len(data_label_encoded_train), 1)\n",
        "y_valid_text = onehot_encoder.transform(data_label_encoded_train)"
      ],
      "metadata": {
        "id": "tzoKWBTJNBXf"
      },
      "execution_count": 45,
      "outputs": []
    },
    {
      "cell_type": "code",
      "source": [
        "data_label_encoded_train = label_encoder.transform(y_test_lst)\n",
        "data_label_encoded_train = data_label_encoded_train.reshape(len(data_label_encoded_train), 1)\n",
        "y_test_text = onehot_encoder.transform(data_label_encoded_train)"
      ],
      "metadata": {
        "id": "OX_GvfVRNB8T"
      },
      "execution_count": 46,
      "outputs": []
    },
    {
      "cell_type": "markdown",
      "source": [
        "Plotting"
      ],
      "metadata": {
        "id": "sNTELYEqNNYe"
      }
    },
    {
      "cell_type": "code",
      "source": [
        "plot_data(y_train_lst, \"Text Train Data\", \"Classes\", \"Number of Videos\")"
      ],
      "metadata": {
        "colab": {
          "base_uri": "https://localhost:8080/",
          "height": 295
        },
        "id": "kqP3HdUPNMC2",
        "outputId": "73ad2098-254b-4b70-ecca-4fe6e1138f21"
      },
      "execution_count": 47,
      "outputs": [
        {
          "output_type": "display_data",
          "data": {
            "text/plain": [
              "<Figure size 432x288 with 1 Axes>"
            ],
            "image/png": "[encoded data removed]"
          },
          "metadata": {
            "needs_background": "light"
          }
        }
      ]
    },
    {
      "cell_type": "code",
      "source": [
        "plot_data(y_valid_lst, \"Text Valid Data\", \"Classes\", \"Number of Videos\")"
      ],
      "metadata": {
        "colab": {
          "base_uri": "https://localhost:8080/",
          "height": 295
        },
        "id": "bTqQneB8Ncad",
        "outputId": "27e30121-49e7-4218-ff82-98ec320c8b2a"
      },
      "execution_count": 48,
      "outputs": [
        {
          "output_type": "display_data",
          "data": {
            "text/plain": [
              "<Figure size 432x288 with 1 Axes>"
            ],
            "image/png": "[encoded data removed]"
          },
          "metadata": {
            "needs_background": "light"
          }
        }
      ]
    },
    {
      "cell_type": "code",
      "source": [
        "plot_data(y_test_lst, \"Text Test Data\", \"Classes\", \"Number of Videos\")"
      ],
      "metadata": {
        "colab": {
          "base_uri": "https://localhost:8080/",
          "height": 295
        },
        "id": "jV21W1OfNdMa",
        "outputId": "e414b323-3799-4544-abd0-8e62296d5ecd"
      },
      "execution_count": 49,
      "outputs": [
        {
          "output_type": "display_data",
          "data": {
            "text/plain": [
              "<Figure size 432x288 with 1 Axes>"
            ],
            "image/png": "[encoded data removed]"
          },
          "metadata": {
            "needs_background": "light"
          }
        }
      ]
    },
    {
      "cell_type": "markdown",
      "source": [
        "Save"
      ],
      "metadata": {
        "id": "X6ahsvwnMMDw"
      }
    },
    {
      "cell_type": "code",
      "source": [
        "with open('/content/drive/MyDrive/final_files/X_train_text.pkl','wb') as file:\n",
        "      pickle.dump(X_train_text,file)\n",
        "with open('/content/drive/MyDrive/final_files/y_train_text.pkl','wb') as file:\n",
        "      pickle.dump(y_train_text,file)\n",
        "\n",
        "with open('/content/drive/MyDrive/final_files/X_valid_text.pkl','wb') as file:\n",
        "      pickle.dump(X_valid_text,file)\n",
        "with open('/content/drive/MyDrive/final_files/y_valid_text.pkl','wb') as file:\n",
        "      pickle.dump(y_valid_text,file)\n",
        "\n",
        "with open('/content/drive/MyDrive/final_files/X_test_text.pkl','wb') as file:\n",
        "      pickle.dump(X_test_text,file)\n",
        "with open('/content/drive/MyDrive/final_files/y_test_text.pkl','wb') as file:\n",
        "      pickle.dump(y_test_text,file)"
      ],
      "metadata": {
        "id": "DvhsMm-SMM38"
      },
      "execution_count": 50,
      "outputs": []
    }
  ],
  "metadata": {
    "colab": {
      "collapsed_sections": [],
      "name": "Preproccessing_data.ipynb",
      "provenance": []
    },
    "kernelspec": {
      "display_name": "Python 3.10.4 64-bit",
      "language": "python",
      "name": "python3"
    },
    "language_info": {
      "codemirror_mode": {
        "name": "ipython",
        "version": 3
      },
      "file_extension": ".py",
      "mimetype": "text/x-python",
      "name": "python",
      "nbconvert_exporter": "python",
      "pygments_lexer": "ipython3",
      "version": "3.10.4"
    },
    "orig_nbformat": 4,
    "vscode": {
      "interpreter": {
        "hash": "d3e10ef16274dd72e574b8fa73b58450b957d8421a2901baded3cca26fcf5dda"
      }
    },
    "gpuClass": "standard"
  },
  "nbformat": 4,
  "nbformat_minor": 0
}
