{
  "cells": [
    {
      "cell_type": "code",
      "execution_count": null,
      "metadata": {
        "id": "xZOoeGm9GUK4"
      },
      "outputs": [],
      "source": [
        "import pickle\n",
        "with open('mosei_senti_data_noalign.pkl', 'rb') as f:\n",
        "    data = pickle.load(f)"
      ]
    },
    {
      "cell_type": "code",
      "execution_count": null,
      "metadata": {
        "id": "m3UX5Em4GUK7",
        "outputId": "0c4ed451-cd40-449a-968c-dbd35412714d"
      },
      "outputs": [
        {
          "data": {
            "text/plain": [
              "dict_keys(['train', 'test', 'valid'])"
            ]
          },
          "execution_count": 3,
          "metadata": {},
          "output_type": "execute_result"
        }
      ],
      "source": [
        "data.keys()"
      ]
    },
    {
      "cell_type": "code",
      "execution_count": null,
      "metadata": {
        "id": "nqfUsMiUGUK-"
      },
      "outputs": [],
      "source": [
        "train_data = data[\"train\"]\n",
        "test_data = data[\"test\"]\n",
        "valid_data = data[\"valid\"]"
      ]
    },
    {
      "cell_type": "code",
      "execution_count": null,
      "metadata": {
        "id": "Y2QAN0iQGULB",
        "outputId": "7fbf67e0-1004-4a1c-ddb8-1ed5401a230a"
      },
      "outputs": [
        {
          "data": {
            "text/plain": [
              "dict_keys(['vision', 'audio', 'text', 'labels', 'id'])"
            ]
          },
          "execution_count": 5,
          "metadata": {},
          "output_type": "execute_result"
        }
      ],
      "source": [
        "train_data.keys()"
      ]
    },
    {
      "cell_type": "code",
      "execution_count": null,
      "metadata": {
        "id": "of7RDZb5GULC"
      },
      "outputs": [],
      "source": [
        "train_data_vision = train_data[\"vision\"]\n",
        "train_data_audio = train_data[\"audio\"]\n",
        "train_data_text = train_data[\"text\"]\n",
        "train_data_labels = train_data[\"labels\"]\n",
        "train_data_id = train_data[\"id\"]"
      ]
    },
    {
      "cell_type": "code",
      "execution_count": null,
      "metadata": {
        "id": "5aWVoJdoGULD",
        "outputId": "92dc1d51-c4a4-4523-c307-aee53e4edfa9"
      },
      "outputs": [
        {
          "name": "stdout",
          "output_type": "stream",
          "text": [
            "(16326, 500, 35)\n",
            "(16326, 500, 74)\n",
            "(16326, 50, 300)\n",
            "(16326, 1, 1)\n"
          ]
        }
      ],
      "source": [
        "print(train_data_vision.shape)\n",
        "print(train_data_audio.shape)\n",
        "print(train_data_text.shape)\n",
        "print(train_data_labels.shape)"
      ]
    },
    {
      "cell_type": "code",
      "execution_count": null,
      "metadata": {
        "id": "0kLjyMqTGULE"
      },
      "outputs": [],
      "source": [
        "train_vision = {\"train_data_vision\":train_data_vision , \"train_data_labels\":train_data_labels}\n",
        "with open('train_vision.pkl','wb') as file:\n",
        "    pickle.dump(train_vision,file)"
      ]
    },
    {
      "cell_type": "code",
      "execution_count": null,
      "metadata": {
        "id": "Rd4I-1zZGULE"
      },
      "outputs": [],
      "source": [
        "train_audio = {\"train_data_audio\":train_data_audio , \"train_data_labels\":train_data_labels}\n",
        "with open('train_audio.pkl','wb') as file:\n",
        "    pickle.dump(train_audio,file)"
      ]
    },
    {
      "cell_type": "code",
      "execution_count": null,
      "metadata": {
        "id": "wI1NjAfWGULF"
      },
      "outputs": [],
      "source": [
        "train_text = {\"train_data_text\":train_data_text , \"train_data_labels\":train_data_labels}\n",
        "with open('train_text.pkl','wb') as file:\n",
        "    pickle.dump(train_text,file)"
      ]
    },
    {
      "cell_type": "code",
      "execution_count": null,
      "metadata": {
        "id": "tbMZVrJYGULG"
      },
      "outputs": [],
      "source": [
        "test_data_vision = test_data[\"vision\"]\n",
        "test_data_audio = test_data[\"audio\"]\n",
        "test_data_text = test_data[\"text\"]\n",
        "test_data_labels = test_data[\"labels\"]\n",
        "test_data_id = test_data[\"id\"]"
      ]
    },
    {
      "cell_type": "code",
      "execution_count": null,
      "metadata": {
        "id": "NGaqs35OGULH",
        "outputId": "684b68e1-b7dc-4341-b76d-ebb8fdd60f5a"
      },
      "outputs": [
        {
          "name": "stdout",
          "output_type": "stream",
          "text": [
            "(4659, 500, 35)\n",
            "(4659, 500, 74)\n",
            "(4659, 50, 300)\n",
            "(4659, 1, 1)\n"
          ]
        }
      ],
      "source": [
        "print(test_data_vision.shape)\n",
        "print(test_data_audio.shape)\n",
        "print(test_data_text.shape)\n",
        "print(test_data_labels.shape)"
      ]
    },
    {
      "cell_type": "code",
      "execution_count": null,
      "metadata": {
        "id": "OZ_ex6oYGULI"
      },
      "outputs": [],
      "source": [
        "test_vision = {\"test_data_vision\":test_data_vision , \"test_data_labels\":test_data_labels}\n",
        "with open('test_vision.pkl','wb') as file:\n",
        "    pickle.dump(test_vision,file)"
      ]
    },
    {
      "cell_type": "code",
      "execution_count": null,
      "metadata": {
        "id": "dIKzR8trGULJ"
      },
      "outputs": [],
      "source": [
        "test_audio = {\"test_data_audio\":test_data_audio , \"test_data_labels\":test_data_labels}\n",
        "with open('test_audio.pkl','wb') as file:\n",
        "    pickle.dump(test_audio,file)"
      ]
    },
    {
      "cell_type": "code",
      "execution_count": null,
      "metadata": {
        "id": "Nvyf6KalGULK"
      },
      "outputs": [],
      "source": [
        "test_text = {\"test_data_text\":test_data_text , \"test_data_labels\":test_data_labels}\n",
        "with open('test_text.pkl','wb') as file:\n",
        "    pickle.dump(test_text,file)"
      ]
    },
    {
      "cell_type": "code",
      "execution_count": null,
      "metadata": {
        "id": "gGBYmaMKGULL"
      },
      "outputs": [],
      "source": [
        "valid_data_vision = valid_data[\"vision\"]\n",
        "valid_data_audio = valid_data[\"audio\"]\n",
        "valid_data_text = valid_data[\"text\"]\n",
        "valid_data_labels = valid_data[\"labels\"]\n",
        "valid_data_id = valid_data[\"id\"]"
      ]
    },
    {
      "cell_type": "code",
      "execution_count": null,
      "metadata": {
        "id": "7vi2GDjZGULL",
        "outputId": "33079169-062d-43ed-83cb-8ebc735f3934"
      },
      "outputs": [
        {
          "name": "stdout",
          "output_type": "stream",
          "text": [
            "(1871, 500, 35)\n",
            "(1871, 500, 74)\n",
            "(1871, 50, 300)\n",
            "(1871, 1, 1)\n"
          ]
        }
      ],
      "source": [
        "print(valid_data_vision.shape)\n",
        "print(valid_data_audio.shape)\n",
        "print(valid_data_text.shape)\n",
        "print(valid_data_labels.shape)"
      ]
    },
    {
      "cell_type": "code",
      "execution_count": null,
      "metadata": {
        "id": "4cGRi7FYGULM"
      },
      "outputs": [],
      "source": [
        "valid_vision = {\"valid_data_vision\":valid_data_vision , \"valid_data_labels\":valid_data_labels}\n",
        "with open('valid_vision.pkl','wb') as file:\n",
        "    pickle.dump(valid_vision,file)"
      ]
    },
    {
      "cell_type": "code",
      "execution_count": null,
      "metadata": {
        "id": "VLFowrsZGULM"
      },
      "outputs": [],
      "source": [
        "valid_audio = {\"valid_data_audio\":valid_data_audio , \"valid_data_labels\":valid_data_labels}\n",
        "with open('valid_audio.pkl','wb') as file:\n",
        "    pickle.dump(valid_audio,file)"
      ]
    },
    {
      "cell_type": "code",
      "execution_count": null,
      "metadata": {
        "id": "z1aQSxb9GULN"
      },
      "outputs": [],
      "source": [
        "valid_text = {\"valid_data_text\":valid_data_text , \"valid_data_labels\":valid_data_labels}\n",
        "with open('valid_text.pkl','wb') as file:\n",
        "    pickle.dump(valid_text,file)"
      ]
    }
  ],
  "metadata": {
    "kernelspec": {
      "display_name": "Python 3.10.4 64-bit",
      "language": "python",
      "name": "python3"
    },
    "language_info": {
      "codemirror_mode": {
        "name": "ipython",
        "version": 3
      },
      "file_extension": ".py",
      "mimetype": "text/x-python",
      "name": "python",
      "nbconvert_exporter": "python",
      "pygments_lexer": "ipython3",
      "version": "3.10.4"
    },
    "orig_nbformat": 4,
    "vscode": {
      "interpreter": {
        "hash": "d3e10ef16274dd72e574b8fa73b58450b957d8421a2901baded3cca26fcf5dda"
      }
    },
    "colab": {
      "name": "dividing_data.ipynb",
      "provenance": [],
      "collapsed_sections": []
    }
  },
  "nbformat": 4,
  "nbformat_minor": 0
}